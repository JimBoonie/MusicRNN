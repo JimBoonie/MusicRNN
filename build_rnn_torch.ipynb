{
 "cells": [
  {
   "cell_type": "code",
   "execution_count": 1,
   "metadata": {
    "collapsed": true
   },
   "outputs": [],
   "source": [
    "import numpy as np\n",
    "import os, shutil\n",
    "import matplotlib.pyplot as plt\n",
    "\n",
    "import torch\n",
    "import torch.nn as nn\n",
    "from torch.utils.data import DataLoader\n",
    "\n",
    "from MusicData import MusicData\n",
    "\n",
    "# input parameters\n",
    "x_len = 80\n",
    "y_len = 40\n",
    "batch_size = 32\n",
    "n_samples = 4096\n",
    "# LSTM parameters\n",
    "num_layers = 2\n",
    "lstm_size = 50\n",
    "dropout_prob = 0.2\n",
    "# training parameters\n",
    "num_epochs = 100\n",
    "epoch_size = 4096\n",
    "verbose = True\n",
    "display_interval = 500\n",
    "moving_avg_length = 100\n",
    "learn_rate = 0.001\n",
    "momentum = 0.8\n",
    "step_size = 50\n",
    "gamma = 0.5\n",
    "\n",
    "# fix random seed for reproducibility\n",
    "np.random.seed(7)"
   ]
  },
  {
   "cell_type": "markdown",
   "metadata": {},
   "source": [
    "## Load data"
   ]
  },
  {
   "cell_type": "code",
   "execution_count": 2,
   "metadata": {},
   "outputs": [
    {
     "name": "stdout",
     "output_type": "stream",
     "text": [
      "Sample rate: 44100\n"
     ]
    },
    {
     "data": {
      "image/png": "[encoded data removed]",
      "text/plain": [
       "<Figure size 432x288 with 1 Axes>"
      ]
     },
     "metadata": {},
     "output_type": "display_data"
    }
   ],
   "source": [
    "# filelist = ['a2002011001-e02.wav']\n",
    "filelist = ['sine.wav']\n",
    "music_data = MusicData(filelist, x_len, y_len)\n",
    "x_ex, y_ex = music_data.__getitem__(0)\n",
    "\n",
    "print('Sample rate: {}'.format(music_data.sample_rate))\n",
    "x_duration = music_data.sample_rate * len(x_ex)\n",
    "x = np.linspace(0, x_duration, len(x_ex), endpoint=False)\n",
    "y_duration = music_data.sample_rate * len(y_ex) + x_duration\n",
    "y = np.linspace(x_duration, y_duration, len(y_ex), endpoint=False)\n",
    "\n",
    "plt.plot(x, x_ex, 'b')\n",
    "plt.plot(y, y_ex, 'r')\n",
    "plt.show()"
   ]
  },
  {
   "cell_type": "markdown",
   "metadata": {},
   "source": [
    "## Make DataLoader"
   ]
  },
  {
   "cell_type": "code",
   "execution_count": 3,
   "metadata": {
    "collapsed": true
   },
   "outputs": [],
   "source": [
    "dataloader = DataLoader(music_data, batch_size=4, shuffle=True, num_workers=4)"
   ]
  },
  {
   "cell_type": "markdown",
   "metadata": {},
   "source": [
    "## Build model"
   ]
  },
  {
   "cell_type": "code",
   "execution_count": 4,
   "metadata": {
    "collapsed": true
   },
   "outputs": [],
   "source": [
    "class MusicRNN(nn.Module):\n",
    "    def __init__(self, x_len, y_len, num_layers=1, hidden_nodes=50, dropout=0.0):\n",
    "        super().__init__()\n",
    "        self.x_len = x_len\n",
    "        self.y_len = y_len\n",
    "        self.num_layers = num_layers\n",
    "        self.dropout = dropout\n",
    "                \n",
    "        # define net parameters\n",
    "        self.rnn = nn.LSTM(x_len, hidden_nodes, num_layers=num_layers, dropout=dropout)    \n",
    "        self.hidden_nodes = self.init_hidden(hidden_nodes)\n",
    "        self.ln1 = nn.Linear(hidden_nodes, y_len)\n",
    "        \n",
    "    def init_hidden(self, hidden_nodes):\n",
    "        return (torch.zeros(1, 1, hidden_nodes),\n",
    "                torch.zeros(1, 1, hidden_nodes))\n",
    "        \n",
    "    def forward(self, x):\n",
    "        x, self.hidden_nodes = self.rnn(x, self.hidden)\n",
    "        x = self.ln1(x)\n",
    "        return x\n"
   ]
  },
  {
   "cell_type": "code",
   "execution_count": 5,
   "metadata": {},
   "outputs": [
    {
     "name": "stderr",
     "output_type": "stream",
     "text": [
      "/home/masonmcgough/anaconda2/envs/PyTorchSIIM/lib/python3.6/site-packages/torch/cuda/__init__.py:116: UserWarning: \n",
      "    Found GPU0 Quadro K4000 which is of cuda capability 3.0.\n",
      "    PyTorch no longer supports this GPU because it is too old.\n",
      "    \n",
      "  warnings.warn(old_gpu_warn % (d, name, major, capability[1]))\n"
     ]
    },
    {
     "ename": "NameError",
     "evalue": "name 'optim' is not defined",
     "output_type": "error",
     "traceback": [
      "\u001b[0;31m---------------------------------------------------------------------------\u001b[0m",
      "\u001b[0;31mNameError\u001b[0m                                 Traceback (most recent call last)",
      "\u001b[0;32m<ipython-input-5-335c7e645315>\u001b[0m in \u001b[0;36m<module>\u001b[0;34m()\u001b[0m\n\u001b[1;32m      7\u001b[0m \u001b[0mcriterion\u001b[0m \u001b[0;34m=\u001b[0m \u001b[0mnn\u001b[0m\u001b[0;34m.\u001b[0m\u001b[0mMSELoss\u001b[0m\u001b[0;34m(\u001b[0m\u001b[0;34m)\u001b[0m\u001b[0;34m\u001b[0m\u001b[0m\n\u001b[1;32m      8\u001b[0m \u001b[0;34m\u001b[0m\u001b[0m\n\u001b[0;32m----> 9\u001b[0;31m \u001b[0moptimizer\u001b[0m \u001b[0;34m=\u001b[0m \u001b[0moptim\u001b[0m\u001b[0;34m.\u001b[0m\u001b[0mRMSprop\u001b[0m\u001b[0;34m(\u001b[0m\u001b[0mrnn_model\u001b[0m\u001b[0;34m.\u001b[0m\u001b[0mparameters\u001b[0m\u001b[0;34m(\u001b[0m\u001b[0;34m)\u001b[0m\u001b[0;34m,\u001b[0m \u001b[0mlr\u001b[0m\u001b[0;34m=\u001b[0m\u001b[0mlearn_rate\u001b[0m\u001b[0;34m,\u001b[0m \u001b[0mmomentum\u001b[0m\u001b[0;34m=\u001b[0m\u001b[0mmomentum\u001b[0m\u001b[0;34m)\u001b[0m\u001b[0;34m\u001b[0m\u001b[0m\n\u001b[0m\u001b[1;32m     10\u001b[0m \u001b[0;34m\u001b[0m\u001b[0m\n\u001b[1;32m     11\u001b[0m \u001b[0mscheduler\u001b[0m \u001b[0;34m=\u001b[0m \u001b[0moptim\u001b[0m\u001b[0;34m.\u001b[0m\u001b[0mlr_scheduler\u001b[0m\u001b[0;34m.\u001b[0m\u001b[0mStepLR\u001b[0m\u001b[0;34m(\u001b[0m\u001b[0moptimizer\u001b[0m\u001b[0;34m,\u001b[0m \u001b[0mstep_size\u001b[0m\u001b[0;34m=\u001b[0m\u001b[0mstep_size\u001b[0m\u001b[0;34m,\u001b[0m \u001b[0mgamma\u001b[0m\u001b[0;34m=\u001b[0m\u001b[0mgamma\u001b[0m\u001b[0;34m)\u001b[0m\u001b[0;34m\u001b[0m\u001b[0m\n",
      "\u001b[0;31mNameError\u001b[0m: name 'optim' is not defined"
     ]
    }
   ],
   "source": [
    "device = torch.device('cuda:0' if torch.cuda.is_available() else 'cpu')\n",
    "\n",
    "rnn_model = MusicRNN(x_len, y_len, num_layers=num_layers, hidden_nodes=lstm_size, dropout=dropout_prob)\n",
    "\n",
    "rnn_model = rnn_model.to(device)\n",
    "\n",
    "criterion = nn.MSELoss()\n",
    "\n",
    "optimizer = torch.optim.RMSprop(rnn_model.parameters(), lr=learn_rate, momentum=momentum)\n",
    "\n",
    "scheduler = torch.optim.lr_scheduler.StepLR(optimizer, step_size=step_size, gamma=gamma)"
   ]
  },
  {
   "cell_type": "markdown",
   "metadata": {},
   "source": [
    "## Define training"
   ]
  },
  {
   "cell_type": "code",
   "execution_count": null,
   "metadata": {
    "collapsed": true
   },
   "outputs": [],
   "source": []
  },
  {
   "cell_type": "markdown",
   "metadata": {},
   "source": [
    "## More complex RNN model"
   ]
  },
  {
   "cell_type": "code",
   "execution_count": null,
   "metadata": {
    "collapsed": true
   },
   "outputs": [],
   "source": [
    "class MusicRNN(nn.Module):\n",
    "    def __init__(self, x_len, y_len, num_layers=1, hidden_nodes=[50], dropout=0.0):\n",
    "        super().__init__()\n",
    "        self.x_len = x_len\n",
    "        self.y_len = y_len\n",
    "        self.num_layers = num_layers\n",
    "        self.hidden_nodes = {}\n",
    "        for i, h_n in enumerate(hidden_nodes):\n",
    "            self.hidden_nodes['rnn{}'.format(i)] = self.init_hidden(h_n)\n",
    "        self.dropout = dropout\n",
    "                \n",
    "        # define net parameters\n",
    "        self.net = {}\n",
    "        for i, hl in enumerate(hidden_nodes):\n",
    "            if i == 0:\n",
    "                layer_in = x_len\n",
    "                \n",
    "            self.net['rnn{}'.format(i + 1)] = nn.LSTM(layer_in, hl, num_layers=1, dropout=dropout)\n",
    "            layer_in = hl\n",
    "            \n",
    "        self.ln1 = nn.Linear()\n",
    "        \n",
    "    def init_hidden(self, hidden_nodes):\n",
    "        return (torch.zeros(1, 1, hidden_nodes),\n",
    "                torch.zeros(1, 1, hidden_nodes))\n",
    "        \n",
    "    def forward(self, x):\n",
    "        for i in range(self.num_layers):\n",
    "            x, self.hidden = self.net['rnn{}'.format(i + 1)](x, self.hidden)\n",
    "        pass"
   ]
  }
 ],
 "metadata": {
  "kernelspec": {
   "display_name": "Python [conda env:PyTorchSIIM]",
   "language": "python",
   "name": "conda-env-PyTorchSIIM-py"
  },
  "language_info": {
   "codemirror_mode": {
    "name": "ipython",
    "version": 3
   },
   "file_extension": ".py",
   "mimetype": "text/x-python",
   "name": "python",
   "nbconvert_exporter": "python",
   "pygments_lexer": "ipython3",
   "version": "3.6.5"
  }
 },
 "nbformat": 4,
 "nbformat_minor": 2
}
