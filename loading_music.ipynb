{
 "cells": [
  {
   "cell_type": "markdown",
   "metadata": {},
   "source": [
    "## Compare different methods for loading wav files"
   ]
  },
  {
   "cell_type": "code",
   "execution_count": null,
   "metadata": {
    "collapsed": true
   },
   "outputs": [],
   "source": [
    "import numpy as np\n",
    "import matplotlib.pyplot as plt\n",
    "%matplotlib inline\n",
    "from scipy.io import wavfile\n",
    "\n",
    "# PCM encoded 16 bits per sample, sampling rate 44100 Hertz, stereo\n",
    "filename = 'a2002011001-e02.wav'"
   ]
  },
  {
   "cell_type": "markdown",
   "metadata": {},
   "source": [
    "## Read wavfile"
   ]
  },
  {
   "cell_type": "code",
   "execution_count": null,
   "metadata": {
    "collapsed": false
   },
   "outputs": [],
   "source": [
    "sample_rate, audio = wavfile.read(filename)\n",
    "n_samples = audio.shape[0]\n",
    "print(audio.dtype)"
   ]
  },
  {
   "cell_type": "markdown",
   "metadata": {},
   "source": [
    "## Plot waveform"
   ]
  },
  {
   "cell_type": "code",
   "execution_count": null,
   "metadata": {
    "collapsed": false
   },
   "outputs": [],
   "source": [
    "duration = sample_rate*n_samples\n",
    "x = np.linspace(0, duration, n_samples)\n",
    "audio = audio/32768.0\n",
    "\n",
    "plt.subplot(211)\n",
    "plt.plot(x, audio[:,0])\n",
    "plt.subplot(212)\n",
    "plt.plot(x, audio[:,1])\n",
    "plt.show()"
   ]
  },
  {
   "cell_type": "markdown",
   "metadata": {},
   "source": [
    "## Load wavfile function"
   ]
  },
  {
   "cell_type": "code",
   "execution_count": null,
   "metadata": {
    "collapsed": false
   },
   "outputs": [],
   "source": [
    "def load_audio_from_wav(filename, bitrate=16, twos_comp=True):\n",
    "    # read audio\n",
    "    sample_rate, audio = wavfile.read(filename)\n",
    "    assert(audio.dtype=='int16') # assume audio is int16 for now\n",
    "    \n",
    "    # combine channels\n",
    "    audio = np.mean(np.array(audio), 1)\n",
    "    \n",
    "    # normalize to [-1, 1]\n",
    "    max_code = 2**bitrate\n",
    "    norm_factor = max_code/2.0\n",
    "    offset = (not twos_comp)*max_code\n",
    "    normed_audio = (audio - offset)/norm_factor\n",
    "    \n",
    "    return normed_audio, sample_rate"
   ]
  },
  {
   "cell_type": "code",
   "execution_count": null,
   "metadata": {
    "collapsed": false
   },
   "outputs": [],
   "source": [
    "func_audio, _ = load_audio_from_wav(filename)\n",
    "x = np.linspace(0, duration, n_samples)\n",
    "\n",
    "plt.subplot(211)\n",
    "plt.plot(x, np.mean(audio, 1))\n",
    "plt.subplot(212)\n",
    "plt.plot(x, func_audio)"
   ]
  },
  {
   "cell_type": "markdown",
   "metadata": {},
   "source": [
    "## Randomly split into input and output segments"
   ]
  },
  {
   "cell_type": "code",
   "execution_count": null,
   "metadata": {
    "collapsed": false
   },
   "outputs": [],
   "source": [
    "def split_audio_into_segments(audio, n_x, n_y, n_segments):\n",
    "    n_samples = audio.shape[0]\n",
    "    n_points = n_x + n_y\n",
    "    \n",
    "    #   select random index from range(0, n_samples - n_points)\n",
    "    start_idxs = np.random.randint(0, n_samples - n_points, n_segments)\n",
    "    \n",
    "    # iterate to create lists of segments\n",
    "    x = []\n",
    "    y = []\n",
    "    for idx in start_idxs:\n",
    "        x.append(audio[idx:idx+n_x])\n",
    "        y.append(audio[idx+n_x:idx+n_x+n_y])\n",
    "    \n",
    "    return x, y\n",
    "\n",
    "func_audio, _ = load_audio_from_wav(filename)\n",
    "train_x, train_y = split_audio_into_segments(func_audio, 50, 10, 5)\n",
    "print(len(train_x))\n",
    "print(len(train_y))\n",
    "print(train_x[0].shape)\n",
    "print(train_y[0].shape)"
   ]
  },
  {
   "cell_type": "markdown",
   "metadata": {},
   "source": [
    "## Test MusicRnnData Class"
   ]
  },
  {
   "cell_type": "code",
   "execution_count": 1,
   "metadata": {
    "collapsed": false
   },
   "outputs": [
    {
     "name": "stdout",
     "output_type": "stream",
     "text": [
      "(100, 50)\n",
      "(100, 10)\n"
     ]
    }
   ],
   "source": [
    "from MusicRnnData import MusicRnnData\n",
    "\n",
    "batch_size = 100\n",
    "x_len = 50\n",
    "y_len = 10\n",
    "\n",
    "filenames = ['a2002011001-e02.wav']\n",
    "\n",
    "music_data = MusicRnnData(filenames)\n",
    "x_samples, y_samples = music_data.data_batch(x_len, y_len, batch_size)\n",
    "print(x_samples.shape)\n",
    "print(y_samples.shape)"
   ]
  },
  {
   "cell_type": "markdown",
   "metadata": {},
   "source": [
    "## Test convert_to_wav method"
   ]
  },
  {
   "cell_type": "code",
   "execution_count": 6,
   "metadata": {
    "collapsed": false
   },
   "outputs": [
    {
     "data": {
      "text/plain": [
       "[<matplotlib.lines.Line2D at 0x7f5344102a50>]"
      ]
     },
     "execution_count": 6,
     "metadata": {},
     "output_type": "execute_result"
    },
    {
     "data": {
      "image/png": "[encoded data removed]",
      "text/plain": [
       "<matplotlib.figure.Figure at 0x7f5344102850>"
      ]
     },
     "metadata": {},
     "output_type": "display_data"
    }
   ],
   "source": [
    "import numpy as np\n",
    "import matplotlib.pyplot as plt\n",
    "%matplotlib inline\n",
    "from scipy.io import wavfile\n",
    "\n",
    "from MusicRnnData import MusicRnnData\n",
    "\n",
    "filenames = ['sine.wav']\n",
    "music_data = MusicRnnData(filenames)\n",
    "\n",
    "sample_rate, original = wavfile.read(filenames[0])\n",
    "converted = music_data.convert_to_wav(music_data.tracks[0])\n",
    "\n",
    "n_samples = original.shape[0]\n",
    "duration = sample_rate*n_samples\n",
    "x = np.linspace(0, duration, n_samples)\n",
    "\n",
    "plt.subplot(211)\n",
    "plt.plot(x[0:100], original[0:100])\n",
    "plt.subplot(212)\n",
    "plt.plot(x[0:100], converted[0:100])"
   ]
  }
 ],
 "metadata": {
  "kernelspec": {
   "display_name": "Python [tensorflow]",
   "language": "python",
   "name": "Python [tensorflow]"
  },
  "language_info": {
   "codemirror_mode": {
    "name": "ipython",
    "version": 2
   },
   "file_extension": ".py",
   "mimetype": "text/x-python",
   "name": "python",
   "nbconvert_exporter": "python",
   "pygments_lexer": "ipython2",
   "version": "2.7.12"
  }
 },
 "nbformat": 4,
 "nbformat_minor": 0
}
