{
 "cells": [
  {
   "cell_type": "code",
   "execution_count": 1,
   "metadata": {
    "collapsed": false
   },
   "outputs": [
    {
     "name": "stderr",
     "output_type": "stream",
     "text": [
      "Using TensorFlow backend.\n"
     ]
    }
   ],
   "source": [
    "import numpy as np\n",
    "import tensorflow as tf\n",
    "import os, shutil\n",
    "from keras.layers.core import Dense, Activation, Dropout\n",
    "from keras.layers.recurrent import LSTM\n",
    "from keras.models import Sequential\n",
    "\n",
    "from MusicRnnData import MusicRnnData\n",
    "\n",
    "# input parameters\n",
    "x_len = 50\n",
    "y_len = 1\n",
    "batch_size = 4096\n",
    "# LSTM parameters\n",
    "num_layers = 1\n",
    "lstm_size = 8\n",
    "hidden_size = 8\n",
    "# training parameters\n",
    "dropout_prob = 0.5\n",
    "num_epochs = 100\n",
    "verbose = True\n",
    "display_interval = 500\n",
    "moving_avg_length = 100\n",
    "\n",
    "# fix random seed for reproducibility\n",
    "np.random.seed(7)"
   ]
  },
  {
   "cell_type": "markdown",
   "metadata": {},
   "source": [
    "## Load data"
   ]
  },
  {
   "cell_type": "code",
   "execution_count": 2,
   "metadata": {
    "collapsed": false
   },
   "outputs": [
    {
     "name": "stdout",
     "output_type": "stream",
     "text": [
      "(4096, 50, 1)\n",
      "(4096, 1)\n"
     ]
    }
   ],
   "source": [
    "# filelist = ['a2002011001-e02.wav']\n",
    "filelist = ['sine.wav']\n",
    "music_data = MusicRnnData(filelist)\n",
    "x_train, y_train = music_data.batch(x_len, y_len, batch_size)\n",
    "\n",
    "# reshape to be (samples, timesteps, features)\n",
    "x_train = np.reshape(x_train, (batch_size, x_len, 1))\n",
    "y_train = np.reshape(y_train, (batch_size, y_len))\n",
    "print(x_train.shape)\n",
    "print(y_train.shape)"
   ]
  },
  {
   "cell_type": "markdown",
   "metadata": {},
   "source": [
    "## Build network"
   ]
  },
  {
   "cell_type": "code",
   "execution_count": 3,
   "metadata": {
    "collapsed": false
   },
   "outputs": [
    {
     "name": "stderr",
     "output_type": "stream",
     "text": [
      "/home/bricklayer/anaconda2/envs/tensorflow/lib/python2.7/site-packages/ipykernel/__main__.py:3: UserWarning: Update your `LSTM` call to the Keras 2 API: `LSTM(units=8, return_sequences=True, input_shape=(50, 1))`\n",
      "  app.launch_new_instance()\n",
      "/home/bricklayer/anaconda2/envs/tensorflow/lib/python2.7/site-packages/ipykernel/__main__.py:7: UserWarning: Update your `Dense` call to the Keras 2 API: `Dense(units=1)`\n"
     ]
    }
   ],
   "source": [
    "def build_model(x_len, lstm_size, dropout_prob):\n",
    "    model = Sequential()\n",
    "    model.add(LSTM(input_shape=(x_len, 1), output_dim=(lstm_size), return_sequences=True))\n",
    "    model.add(Dropout(dropout_prob))\n",
    "    model.add(LSTM(lstm_size, return_sequences=False))\n",
    "    model.add(Dropout(dropout_prob))\n",
    "    model.add(Dense(output_dim=1))\n",
    "    model.add(Activation(\"linear\"))\n",
    "    model.compile(loss='mean_squared_error', optimizer='adam')\n",
    "    return model\n",
    "\n",
    "model = build_model(x_len, lstm_size, dropout_prob)"
   ]
  },
  {
   "cell_type": "markdown",
   "metadata": {},
   "source": [
    "## Train model"
   ]
  },
  {
   "cell_type": "code",
   "execution_count": 4,
   "metadata": {
    "collapsed": false
   },
   "outputs": [
    {
     "name": "stdout",
     "output_type": "stream",
     "text": [
      "Epoch 1/100\n",
      "1s - loss: 1.3450e-04\n",
      "Epoch 2/100\n",
      "0s - loss: 5.3323e-05\n",
      "Epoch 3/100\n",
      "0s - loss: 5.5453e-05\n",
      "Epoch 4/100\n",
      "0s - loss: 6.5212e-05\n",
      "Epoch 5/100\n",
      "0s - loss: 1.1675e-04\n",
      "Epoch 6/100\n",
      "0s - loss: 6.6829e-05\n",
      "Epoch 7/100\n",
      "0s - loss: 4.6900e-05\n",
      "Epoch 8/100\n",
      "0s - loss: 3.8233e-05\n",
      "Epoch 9/100\n",
      "0s - loss: 2.8635e-05\n",
      "Epoch 10/100\n",
      "0s - loss: 7.0346e-05\n",
      "Epoch 11/100\n",
      "0s - loss: 7.9006e-05\n",
      "Epoch 12/100\n",
      "0s - loss: 7.6673e-05\n",
      "Epoch 13/100\n",
      "0s - loss: 6.3901e-05\n",
      "Epoch 14/100\n",
      "0s - loss: 4.0761e-05\n",
      "Epoch 15/100\n",
      "0s - loss: 6.0455e-05\n",
      "Epoch 16/100\n",
      "0s - loss: 5.3393e-05\n",
      "Epoch 17/100\n",
      "0s - loss: 4.2557e-05\n",
      "Epoch 18/100\n",
      "0s - loss: 6.7529e-05\n",
      "Epoch 19/100\n",
      "0s - loss: 7.1953e-05\n",
      "Epoch 20/100\n",
      "0s - loss: 7.0459e-05\n",
      "Epoch 21/100\n",
      "0s - loss: 6.6952e-05\n",
      "Epoch 22/100\n",
      "0s - loss: 2.0174e-05\n",
      "Epoch 23/100\n",
      "0s - loss: 5.7420e-05\n",
      "Epoch 24/100\n",
      "0s - loss: 7.0705e-05\n",
      "Epoch 25/100\n",
      "0s - loss: 7.0500e-05\n",
      "Epoch 26/100\n",
      "0s - loss: 6.6173e-05\n",
      "Epoch 27/100\n",
      "0s - loss: 7.7664e-05\n",
      "Epoch 28/100\n",
      "0s - loss: 6.2733e-05\n",
      "Epoch 29/100\n",
      "0s - loss: 6.2591e-05\n",
      "Epoch 30/100\n",
      "0s - loss: 7.5654e-05\n",
      "Epoch 31/100\n",
      "0s - loss: 3.8000e-05\n",
      "Epoch 32/100\n",
      "0s - loss: 9.0505e-05\n",
      "Epoch 33/100\n",
      "0s - loss: 3.0546e-05\n",
      "Epoch 34/100\n",
      "0s - loss: 3.7052e-05\n",
      "Epoch 35/100\n",
      "0s - loss: 4.7952e-05\n",
      "Epoch 36/100\n",
      "0s - loss: 4.4038e-05\n",
      "Epoch 37/100\n",
      "0s - loss: 4.8250e-05\n",
      "Epoch 38/100\n",
      "0s - loss: 4.8815e-05\n",
      "Epoch 39/100\n",
      "0s - loss: 5.0046e-05\n",
      "Epoch 40/100\n",
      "0s - loss: 3.8281e-05\n",
      "Epoch 41/100\n",
      "0s - loss: 6.4306e-05\n",
      "Epoch 42/100\n",
      "0s - loss: 3.9303e-05\n",
      "Epoch 43/100\n",
      "0s - loss: 6.3030e-05\n",
      "Epoch 44/100\n",
      "0s - loss: 3.1430e-05\n",
      "Epoch 45/100\n",
      "0s - loss: 6.4875e-05\n",
      "Epoch 46/100\n",
      "0s - loss: 5.6933e-05\n",
      "Epoch 47/100\n",
      "0s - loss: 2.0364e-05\n",
      "Epoch 48/100\n",
      "0s - loss: 6.5445e-05\n",
      "Epoch 49/100\n",
      "0s - loss: 8.6697e-05\n",
      "Epoch 50/100\n",
      "0s - loss: 7.7517e-05\n",
      "Epoch 51/100\n",
      "0s - loss: 5.9517e-05\n",
      "Epoch 52/100\n",
      "0s - loss: 1.9590e-05\n",
      "Epoch 53/100\n",
      "0s - loss: 1.5946e-05\n",
      "Epoch 54/100\n",
      "0s - loss: 3.5998e-05\n",
      "Epoch 55/100\n",
      "0s - loss: 6.3686e-05\n",
      "Epoch 56/100\n",
      "0s - loss: 1.5604e-05\n",
      "Epoch 57/100\n",
      "0s - loss: 4.4526e-05\n",
      "Epoch 58/100\n",
      "0s - loss: 9.8137e-06\n",
      "Epoch 59/100\n",
      "0s - loss: 2.5566e-05\n",
      "Epoch 60/100\n",
      "0s - loss: 2.4681e-05\n",
      "Epoch 61/100\n",
      "0s - loss: 9.2381e-06\n",
      "Epoch 62/100\n",
      "0s - loss: 1.7222e-05\n",
      "Epoch 63/100\n",
      "0s - loss: 2.1726e-05\n",
      "Epoch 64/100\n",
      "0s - loss: 2.0509e-05\n",
      "Epoch 65/100\n",
      "0s - loss: 6.4134e-05\n",
      "Epoch 66/100\n",
      "0s - loss: 3.6653e-05\n",
      "Epoch 67/100\n",
      "0s - loss: 6.0596e-05\n",
      "Epoch 68/100\n",
      "0s - loss: 2.4668e-05\n",
      "Epoch 69/100\n",
      "0s - loss: 4.7341e-05\n",
      "Epoch 70/100\n",
      "0s - loss: 6.6625e-06\n",
      "Epoch 71/100\n",
      "0s - loss: 3.8343e-05\n",
      "Epoch 72/100\n",
      "0s - loss: 6.3731e-06\n",
      "Epoch 73/100\n",
      "0s - loss: 2.1933e-06\n",
      "Epoch 74/100\n",
      "0s - loss: 3.4296e-05\n",
      "Epoch 75/100\n",
      "0s - loss: 2.9983e-05\n",
      "Epoch 76/100\n",
      "0s - loss: 1.3176e-05\n",
      "Epoch 77/100\n",
      "0s - loss: 4.9464e-05\n",
      "Epoch 78/100\n",
      "0s - loss: 2.7583e-05\n",
      "Epoch 79/100\n",
      "0s - loss: 9.2478e-06\n",
      "Epoch 80/100\n",
      "0s - loss: 3.1314e-06\n",
      "Epoch 81/100\n",
      "0s - loss: 1.8579e-07\n",
      "Epoch 82/100\n",
      "0s - loss: 7.5341e-08\n",
      "Epoch 83/100\n",
      "0s - loss: 4.3658e-05\n",
      "Epoch 84/100\n",
      "0s - loss: 1.9491e-05\n",
      "Epoch 85/100\n",
      "0s - loss: 4.4707e-05\n",
      "Epoch 86/100\n",
      "0s - loss: 3.0104e-05\n",
      "Epoch 87/100\n",
      "0s - loss: 3.1604e-05\n",
      "Epoch 88/100\n",
      "0s - loss: 5.2752e-06\n",
      "Epoch 89/100\n",
      "0s - loss: 1.3209e-05\n",
      "Epoch 90/100\n",
      "0s - loss: 2.8583e-05\n",
      "Epoch 91/100\n",
      "0s - loss: 3.4523e-05\n",
      "Epoch 92/100\n",
      "0s - loss: 3.8436e-05\n",
      "Epoch 93/100\n",
      "0s - loss: 1.7723e-05\n",
      "Epoch 94/100\n",
      "0s - loss: 1.1575e-07\n",
      "Epoch 95/100\n",
      "0s - loss: 2.2466e-07\n",
      "Epoch 96/100\n",
      "0s - loss: 4.8257e-05\n",
      "Epoch 97/100\n",
      "0s - loss: 1.4657e-05\n",
      "Epoch 98/100\n",
      "0s - loss: 6.0911e-05\n",
      "Epoch 99/100\n",
      "0s - loss: 6.5700e-07\n",
      "Epoch 100/100\n",
      "0s - loss: 2.1678e-06\n"
     ]
    },
    {
     "data": {
      "text/plain": [
       "<keras.callbacks.History at 0x7fc2d6c79b50>"
      ]
     },
     "execution_count": 4,
     "metadata": {},
     "output_type": "execute_result"
    }
   ],
   "source": [
    "model.fit(x_train, y_train, epochs=num_epochs, batch_size=batch_size, verbose=2)"
   ]
  },
  {
   "cell_type": "markdown",
   "metadata": {},
   "source": [
    "## Predict on sequence"
   ]
  },
  {
   "cell_type": "code",
   "execution_count": null,
   "metadata": {
    "collapsed": true
   },
   "outputs": [],
   "source": []
  },
  {
   "cell_type": "markdown",
   "metadata": {},
   "source": [
    "## Plot output"
   ]
  },
  {
   "cell_type": "code",
   "execution_count": null,
   "metadata": {
    "collapsed": true
   },
   "outputs": [],
   "source": []
  }
 ],
 "metadata": {
  "kernelspec": {
   "display_name": "Python [tensorflow]",
   "language": "python",
   "name": "Python [tensorflow]"
  },
  "language_info": {
   "codemirror_mode": {
    "name": "ipython",
    "version": 2
   },
   "file_extension": ".py",
   "mimetype": "text/x-python",
   "name": "python",
   "nbconvert_exporter": "python",
   "pygments_lexer": "ipython2",
   "version": "2.7.12"
  }
 },
 "nbformat": 4,
 "nbformat_minor": 0
}
