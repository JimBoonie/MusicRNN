{
 "cells": [
  {
   "cell_type": "code",
   "execution_count": 1,
   "metadata": {
    "collapsed": false
   },
   "outputs": [],
   "source": [
    "import numpy as np\n",
    "import tensorflow as tf\n",
    "\n",
    "from MusicRnnData import MusicRnnData\n",
    "\n",
    "# input parameters\n",
    "x_len = 50\n",
    "y_len = 1\n",
    "batch_size = 64\n",
    "# LSTM parameters\n",
    "num_layers = 2\n",
    "lstm_size = 128\n",
    "hidden_size = 128\n",
    "# training parameters\n",
    "dropout_prob = 0.5\n",
    "learning_rate = 1e-1\n",
    "num_steps = 50000\n",
    "verbose = True\n",
    "display_interval = 500\n",
    "moving_avg_length = 100\n",
    "\n",
    "# fix random seed for reproducibility\n",
    "np.random.seed(7)"
   ]
  },
  {
   "cell_type": "markdown",
   "metadata": {},
   "source": [
    "## Helper functions"
   ]
  },
  {
   "cell_type": "code",
   "execution_count": 2,
   "metadata": {
    "collapsed": false
   },
   "outputs": [],
   "source": [
    "from collections import deque\n",
    "\n",
    "class MovingAverager(object):\n",
    "    def __init__(self, filter_length):\n",
    "        self.filter = deque([0 for _ in range(filter_length)])\n",
    "        \n",
    "    def insert(self, num):\n",
    "        self.filter.popleft()\n",
    "        self.filter.append(num)\n",
    "        \n",
    "    def average(self):\n",
    "        return sum(self.filter)/float(len(self.filter))\n",
    "    \n",
    "def build_lstm_stack(num_layers, lstm_size, dropout_prob=1.0):\n",
    "    def lstm_layer(lstm_size, dropout_prob=1.0):\n",
    "        lstm_layer = tf.contrib.rnn.BasicLSTMCell(lstm_size)\n",
    "        return tf.contrib.rnn.DropoutWrapper(lstm_layer, output_keep_prob=dropout_prob)\n",
    "    \n",
    "    lstm_stack = [lstm_layer(lstm_size, dropout_prob=dropout_prob) for _ in range(num_layers)]\n",
    "    return tf.contrib.rnn.MultiRNNCell(lstm_stack)"
   ]
  },
  {
   "cell_type": "markdown",
   "metadata": {},
   "source": [
    "## Load the data"
   ]
  },
  {
   "cell_type": "code",
   "execution_count": 3,
   "metadata": {
    "collapsed": false
   },
   "outputs": [],
   "source": [
    "# filelist = ['a2002011001-e02.wav']\n",
    "filelist = ['sine.wav']\n",
    "music_data = MusicRnnData(filelist)"
   ]
  },
  {
   "cell_type": "markdown",
   "metadata": {},
   "source": [
    "## Construct model"
   ]
  },
  {
   "cell_type": "code",
   "execution_count": 4,
   "metadata": {
    "collapsed": false
   },
   "outputs": [],
   "source": [
    "# input\n",
    "x = tf.placeholder(tf.float32, [batch_size, x_len])\n",
    "y = tf.placeholder(tf.float32, [batch_size, y_len])\n",
    "\n",
    "# RNN Cell\n",
    "lstm = build_lstm_stack(num_layers, lstm_size, dropout_prob=dropout_prob)\n",
    "# add dropout here\n",
    "\n",
    "# output layer\n",
    "output, states = tf.contrib.rnn.static_rnn(lstm, [x], dtype=tf.float32)\n",
    "fc_weights = tf.Variable(tf.random_normal([hidden_size, y_len]))\n",
    "fc_bias = tf.Variable(tf.random_normal([y_len]))\n",
    "\n",
    "y_ = tf.matmul(output[-1], fc_weights) + fc_bias"
   ]
  },
  {
   "cell_type": "markdown",
   "metadata": {},
   "source": [
    "## Set cost function and optimizer"
   ]
  },
  {
   "cell_type": "code",
   "execution_count": 5,
   "metadata": {
    "collapsed": true
   },
   "outputs": [],
   "source": [
    "cost = tf.nn.l2_loss(y_ - y)\n",
    "optimizer = tf.train.RMSPropOptimizer(learning_rate=learning_rate).minimize(cost)"
   ]
  },
  {
   "cell_type": "markdown",
   "metadata": {},
   "source": [
    "## Run training session"
   ]
  },
  {
   "cell_type": "code",
   "execution_count": null,
   "metadata": {
    "collapsed": false
   },
   "outputs": [
    {
     "name": "stdout",
     "output_type": "stream",
     "text": [
      "step: 0, training loss: 0.480391\n",
      "step: 500, training loss: 0.0847758\n",
      "moving average: 0.00565167\n",
      "step: 1000, training loss: 0.0415556\n",
      "moving average: 0.00606723\n",
      "step: 1500, training loss: 0.132123\n",
      "moving average: 0.00738846\n",
      "step: 2000, training loss: 0.362011\n",
      "moving average: 0.0110086\n",
      "step: 2500, training loss: 0.197169\n",
      "moving average: 0.0129803\n",
      "step: 3000, training loss: 0.115876\n",
      "moving average: 0.014139\n"
     ]
    }
   ],
   "source": [
    "moving_avg = MovingAverager(moving_avg_length)\n",
    "\n",
    "with tf.Session() as sess:\n",
    "    sess.run(tf.global_variables_initializer())\n",
    "    for i in range(num_steps):\n",
    "        x_batch, y_batch = music_data.batch(x_len, y_len, batch_size)\n",
    "        _, loss = sess.run([optimizer, cost], feed_dict={x: x_batch, y: y_batch})\n",
    "\n",
    "        # print progress\n",
    "        if verbose and (i % display_interval == 0):\n",
    "            print('step: %d, training loss: %g' % (i, loss))\n",
    "            \n",
    "            # moving averager\n",
    "            moving_avg.insert(loss)\n",
    "            if i > moving_avg_length:\n",
    "                print('moving average: %g' % (moving_avg.average()))"
   ]
  }
 ],
 "metadata": {
  "kernelspec": {
   "display_name": "Python [tensorflow]",
   "language": "python",
   "name": "Python [tensorflow]"
  },
  "language_info": {
   "codemirror_mode": {
    "name": "ipython",
    "version": 2
   },
   "file_extension": ".py",
   "mimetype": "text/x-python",
   "name": "python",
   "nbconvert_exporter": "python",
   "pygments_lexer": "ipython2",
   "version": "2.7.12"
  }
 },
 "nbformat": 4,
 "nbformat_minor": 0
}
